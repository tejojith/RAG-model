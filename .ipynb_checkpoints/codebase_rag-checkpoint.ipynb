{
 "cells": [
  {
   "cell_type": "code",
   "execution_count": null,
   "id": "40cac113",
   "metadata": {},
   "outputs": [],
   "source": [
    "import os\n",
    "from langchain_community.vectorstores import Chroma\n",
    "from langchain_community.embeddings import OllamaEmbeddings\n",
    "from langchain_community.llms import Ollama\n",
    "from langchain.text_splitter import RecursiveCharacterTextSplitter\n",
    "from langchain.document_loaders import DirectoryLoader\n",
    "from langchain.chains import RetrievalQA\n",
    "from langchain_community.document_loaders import TextLoader\n",
    "\n",
    "class CodebaseRAG:\n",
    "    def __init__(self, project_path, db_path):\n",
    "        self.project_path = project_path\n",
    "        self.db_path = db_path\n",
    "        self.embed_model = \"nomic-embed-text\"  # or mxbai-embed-large for code\n",
    "        self.embedding = OllamaEmbeddings(model=self.embed_model)\n",
    "        self.vector_db = None\n",
    "\n",
    "    def create_embeddings_and_store(self):\n",
    "        loader = DirectoryLoader(self.project_path, glob=\"**/*.py\", loader_cls=TextLoader)\n",
    "        documents = loader.load()\n",
    "        splitter = RecursiveCharacterTextSplitter(chunk_size=1000, chunk_overlap=100)\n",
    "        chunks = splitter.split_documents(documents)\n",
    "        \n",
    "        self.vector_db = Chroma.from_documents(chunks, self.embedding, persist_directory=self.db_path)\n",
    "        self.vector_db.persist()\n",
    "\n",
    "    def load_vector_db(self):\n",
    "        self.vector_db = Chroma(persist_directory=self.db_path, embedding_function=self.embedding)\n",
    "\n",
    "    def query_rag_system(self):\n",
    "        if not self.vector_db:\n",
    "            self.load_vector_db()\n",
    "        retriever = self.vector_db.as_retriever()\n",
    "        \n",
    "        llm = Ollama(model=\"mistral\")  # Use any: mistral, wizardcoder, codellama\n",
    "        qa = RetrievalQA.from_chain_type(llm=llm, retriever=retriever, return_source_documents=True)\n",
    "        \n",
    "        while True:\n",
    "            query = input(\"\\n🔍 Enter your question (or type 'exit'): \")\n",
    "            if query.lower() in [\"exit\", \"quit\"]:\n",
    "                break\n",
    "            result = qa(query)\n",
    "            print(\"\\n🧠 Answer:\", result[\"result\"])\n"
   ]
  }
 ],
 "metadata": {
  "kernelspec": {
   "display_name": "Python 3 (ipykernel)",
   "language": "python",
   "name": "python3"
  },
  "language_info": {
   "codemirror_mode": {
    "name": "ipython",
    "version": 3
   },
   "file_extension": ".py",
   "mimetype": "text/x-python",
   "name": "python",
   "nbconvert_exporter": "python",
   "pygments_lexer": "ipython3",
   "version": "3.11.5"
  }
 },
 "nbformat": 4,
 "nbformat_minor": 5
}
