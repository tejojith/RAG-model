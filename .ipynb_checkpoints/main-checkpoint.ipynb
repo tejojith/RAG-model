{
 "cells": [
  {
   "cell_type": "code",
   "execution_count": null,
   "id": "d8993b33",
   "metadata": {},
   "outputs": [],
   "source": [
    "from codebase_rag import CodebaseRAG\n",
    "from rag_config import PROJECT_PATH, DB_PATH\n",
    "\n",
    "rag = CodebaseRAG(PROJECT_PATH, DB_PATH)\n",
    "rag.create_embeddings_and_store()   # Run this once\n",
    "rag.query_rag_system()\n"
   ]
  }
 ],
 "metadata": {
  "kernelspec": {
   "display_name": "Python 3 (ipykernel)",
   "language": "python",
   "name": "python3"
  },
  "language_info": {
   "codemirror_mode": {
    "name": "ipython",
    "version": 3
   },
   "file_extension": ".py",
   "mimetype": "text/x-python",
   "name": "python",
   "nbconvert_exporter": "python",
   "pygments_lexer": "ipython3",
   "version": "3.11.5"
  }
 },
 "nbformat": 4,
 "nbformat_minor": 5
}
